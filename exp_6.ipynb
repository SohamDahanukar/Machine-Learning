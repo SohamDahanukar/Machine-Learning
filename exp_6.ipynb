{
 "cells": [
  {
   "cell_type": "markdown",
   "id": "9c41b2fa",
   "metadata": {},
   "source": [
    "# McCulloch-Pitts Model Implementation"
   ]
  },
  {
   "cell_type": "code",
   "execution_count": 8,
   "id": "ea9e8fc1",
   "metadata": {},
   "outputs": [],
   "source": [
    "class McCullochPittsNeuron:\n",
    "    def __init__(self, weights, threshold):\n",
    "        self.weights = weights\n",
    "        self.threshold = threshold\n",
    "\n",
    "    def activate(self, inputs):\n",
    "        if len(inputs) != len(self.weights):\n",
    "            raise ValueError(\"Number of inputs must match the number of weights\")\n",
    "        \n",
    "        weighted_sum = sum(x * w for x, w in zip(inputs, self.weights))\n",
    "        return 1 if weighted_sum >= self.threshold else 0"
   ]
  },
  {
   "cell_type": "markdown",
   "id": "2c103c9c",
   "metadata": {},
   "source": [
    "### Example Usage\n",
    "### Define weights and threshold for a simple AND gate\n"
   ]
  },
  {
   "cell_type": "code",
   "execution_count": 14,
   "id": "1dda28bd",
   "metadata": {},
   "outputs": [],
   "source": [
    "weights_and = [1, 1] \n",
    "threshold_and = 2"
   ]
  },
  {
   "cell_type": "code",
   "execution_count": 10,
   "id": "b3b35335",
   "metadata": {},
   "outputs": [],
   "source": [
    "# Create an instance of McCullochPittsNeuron for AND gate\n",
    "and_gate = McCullochPittsNeuron(weights_and, threshold_and)"
   ]
  },
  {
   "cell_type": "code",
   "execution_count": 11,
   "id": "0d2ad5e5",
   "metadata": {},
   "outputs": [],
   "source": [
    "# Test the AND gate with different inputs\n",
    "inputs = [\n",
    "    [0, 0],\n",
    "    [0, 1],\n",
    "    [1, 0],\n",
    "    [1, 1]\n",
    "]\n"
   ]
  },
  {
   "cell_type": "code",
   "execution_count": 12,
   "id": "15fbecfd",
   "metadata": {},
   "outputs": [
    {
     "name": "stdout",
     "output_type": "stream",
     "text": [
      "AND Gate:\n",
      "Input: [0, 0], Output: 0\n",
      "Input: [0, 1], Output: 0\n",
      "Input: [1, 0], Output: 0\n",
      "Input: [1, 1], Output: 1\n"
     ]
    }
   ],
   "source": [
    "print(\"AND Gate:\")\n",
    "for input_pair in inputs:\n",
    "    output = and_gate.activate(input_pair)\n",
    "    print(f\"Input: {input_pair}, Output: {output}\")"
   ]
  },
  {
   "cell_type": "code",
   "execution_count": null,
   "id": "838b2cd8",
   "metadata": {},
   "outputs": [],
   "source": []
  }
 ],
 "metadata": {
  "kernelspec": {
   "display_name": "Python 3 (ipykernel)",
   "language": "python",
   "name": "python3"
  },
  "language_info": {
   "codemirror_mode": {
    "name": "ipython",
    "version": 3
   },
   "file_extension": ".py",
   "mimetype": "text/x-python",
   "name": "python",
   "nbconvert_exporter": "python",
   "pygments_lexer": "ipython3",
   "version": "3.10.9"
  }
 },
 "nbformat": 4,
 "nbformat_minor": 5
}
